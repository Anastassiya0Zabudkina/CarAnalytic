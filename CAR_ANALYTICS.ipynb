{
 "cells": [
  {
   "cell_type": "code",
   "execution_count": 2,
   "metadata": {},
   "outputs": [],
   "source": [
    "cars = [\n",
    "    (\"toyota\", \"camry\", 2010, 15000, 1),\n",
    "    (\"nissan\", \"qashqai\", 2019, 27300, 2),\n",
    "    (\"toyota\", \"corolla\", 2011, 14000, 3),\n",
    "    (\"bmw\", \"7\", 2017, 19500, 4),\n",
    "    (\"toyota\", \"camry\", 2019, 31000, 5),\n",
    "    (\"bmw\", \"7\", 2015, 18000, 6),\n",
    "    (\"toyota\", \"corolla\", 2011, 15000, 7),\n",
    "    (\"nissan\", \"qashqai\", 2014, 17000, 8),\n",
    "    (\"bmw\", \"5\", 2010, 9000, 9), \n",
    "    (\"toyota\", \"camry\", 2010, 16000, 10),\n",
    "    (\"bmw\", \"7\", 2015, 18000, 11),\n",
    "    (\"nissan\", \"qashqai\", 2014, 17300, 12),\n",
    "    (\"toyota\", \"camry\", 2021, 33500, 13),\n",
    "    (\"bmw\", \"5\", 2008, 10000, 14),\n",
    "    (\"nissan\", \"qashqai\", 2015, 17300, 15),\n",
    "    (\"toyota\", \"camry\", 2002, 6400, 16),\n",
    "    (\"toyota\", \"corolla\", 2013, 14900, 17),\n",
    "    (\"bmw\", \"7\", 2015, 18000, 18),\n",
    "    (\"toyota\", \"corolla\", 2011, 15000, 19),\n",
    "    (\"toyota\", \"camry\", 2002, 6400, 20),\n",
    "    (\"bmw\", \"7\", 2011, 15500, 21),\n",
    "    (\"toyota\", \"camry\", 2012, 18000, 22),\n",
    "    (\"toyota\", \"camry\", 2020, 32000, 23),\n",
    "    (\"bmw\", \"5\", 2005, 7000, 24),\n",
    "    (\"nissan\", \"qashqai\", 2015, 17000, 25),\n",
    "    (\"toyota\", \"corolla\", 2014, 18500, 26),\n",
    "    (\"toyota\", \"camry\", 2000, 5800, 27),\n",
    "    (\"nissan\", \"qashqai\", 2009, 11000, 28),\n",
    "    (\"bmw\", \"5\", 2018, 19000, 29)\n",
    "]"
   ]
  },
  {
   "cell_type": "code",
   "execution_count": 3,
   "metadata": {},
   "outputs": [],
   "source": [
    "people = [{\"id\": 1, \"is_male\": True, \"age\": 35},\n",
    "          {\"id\": 2, \"is_male\": True, \"age\": 39},\n",
    "          {\"id\": 3, \"is_male\": False, \"age\": 32},\n",
    "          {\"id\": 4, \"is_male\": True, \"age\": 21},\n",
    "          {\"id\": 5, \"is_male\": False, \"age\": 58},\n",
    "          {\"id\": 6, \"is_male\": False, \"age\": 20},\n",
    "          {\"id\": 7, \"is_male\": True, \"age\": 28},\n",
    "          {\"id\": 8, \"is_male\": False, \"age\": 47},\n",
    "          {\"id\": 9, \"is_male\": True, \"age\": 46},\n",
    "          {\"id\": 10, \"is_male\": True, \"age\": 39},\n",
    "          {\"id\": 11, \"is_male\": False, \"age\": 31},\n",
    "          {\"id\": 12, \"is_male\": True, \"age\": 25},\n",
    "          {\"id\": 13, \"is_male\": False, \"age\": 49},\n",
    "          {\"id\": 14, \"is_male\": False, \"age\": 50},\n",
    "          {\"id\": 15, \"is_male\": True, \"age\": 57},\n",
    "          {\"id\": 16, \"is_male\": False, \"age\": 24},\n",
    "          {\"id\": 17, \"is_male\": True, \"age\": 34},\n",
    "          {\"id\": 18, \"is_male\": True, \"age\": 40},\n",
    "          {\"id\": 19, \"is_male\": False, \"age\": 41},\n",
    "          {\"id\": 20, \"is_male\": True, \"age\": 52},\n",
    "          {\"id\": 21, \"is_male\": False, \"age\": 29},\n",
    "          {\"id\": 22, \"is_male\": True, \"age\": 25},\n",
    "          {\"id\": 23, \"is_male\": False, \"age\": 33},\n",
    "          {\"id\": 24, \"is_male\": True, \"age\": 39},\n",
    "          {\"id\": 25, \"is_male\": True, \"age\": 48},\n",
    "          {\"id\": 26, \"is_male\": False, \"age\": 47},\n",
    "          {\"id\": 27, \"is_male\": False, \"age\": 35},\n",
    "          {\"id\": 28, \"is_male\": False, \"age\": 31},\n",
    "          {\"id\": 29, \"is_male\": True, \"age\": 46}\n",
    "]"
   ]
  },
  {
   "cell_type": "code",
   "execution_count": 12,
   "metadata": {},
   "outputs": [
    {
     "name": "stdout",
     "output_type": "stream",
     "text": [
      "[35, 39, 21, 28, 46, 39, 25, 57, 34, 40, 52, 25, 39, 48, 46]\n",
      "[32, 58, 20, 47, 31, 49, 50, 24, 41, 29, 33, 47, 35, 31]\n",
      "Средний возраст мужчин: 38.266666666666666\n",
      "Средний возраст женщин: 37.642857142857146\n"
     ]
    }
   ],
   "source": [
    "# Найти средний возраст мужчин и женщин\n",
    "men = [person[\"age\"] for person in people if person[\"is_male\"]]\n",
    "women = [person[\"age\"] for person in people if not person[\"is_male\"]]\n",
    "print(men)\n",
    "print(women)\n",
    "men_age = sum(men) / len(men)\n",
    "women_age = sum(women) / len(women)\n",
    "print(f\"Средний возраст мужчин: {men_age}\")\n",
    "print(f\"Средний возраст женщин: {women_age}\")\n"
   ]
  },
  {
   "cell_type": "code",
   "execution_count": 128,
   "metadata": {},
   "outputs": [
    {
     "name": "stdout",
     "output_type": "stream",
     "text": [
      "['camry', 'qashqai', 'corolla', '7', '5']\n",
      "{'camry': [35, 58, 39, 49, 24, 52, 25, 33, 35], 'qashqai': [39, 47, 25, 57, 48, 31], 'corolla': [32, 28, 34, 41, 47], '7': [21, 20, 31, 40, 29], '5': [46, 50, 39, 46]}\n",
      "[('camry', 38.888888888888886), ('qashqai', 41.166666666666664), ('corolla', 36.4), ('7', 28.2), ('5', 45.25)]\n",
      "Средний возраст владельцев camry: 38.888888888888886\n",
      "Средний возраст владельцев qashqai: 41.166666666666664\n",
      "Средний возраст владельцев corolla: 36.4\n",
      "Средний возраст владельцев 7: 28.2\n",
      "Средний возраст владельцев 5: 45.25\n"
     ]
    }
   ],
   "source": [
    "#По каждой модели вывести средний возраст собственника\n",
    "models = []\n",
    "all_models = [model for _, model,*_ in cars]\n",
    "for model in all_models:\n",
    "    if model not in models:\n",
    "        models.append(model)\n",
    "print(models)\n",
    "\n",
    "model_ages = {model : [] for model in models}\n",
    "for car in cars:\n",
    "    model_ages[car[1]].append(people_dict[car[4]][\"age\"])\n",
    "print(model_ages)    \n",
    "average_ages = [(model, sum(ages)/len(ages)) for model, ages in model_ages.items()]\n",
    "print(average_ages)\n",
    "for model, avg_age in average_ages:\n",
    "    print(f'Средний возраст владельцев {model}: {avg_age}')"
   ]
  },
  {
   "cell_type": "code",
   "execution_count": 151,
   "metadata": {},
   "outputs": [
    {
     "name": "stdout",
     "output_type": "stream",
     "text": [
      "{'toyota', 'nissan', 'bmw'}\n",
      "{'toyota': {'male': 0, 'female': 0}, 'nissan': {'male': 0, 'female': 0}, 'bmw': {'male': 0, 'female': 0}}\n",
      "У марки toyota 42.86% владельцев мужчин и 57.14% женщин.\n",
      "У марки nissan 66.67% владельцев мужчин и 33.33% женщин.\n",
      "У марки bmw 55.56% владельцев мужчин и 44.44% женщин.\n"
     ]
    }
   ],
   "source": [
    "#По каждой марке вывести соотношение полов собственников в процентах (60% - 40%)\n",
    "marks = set([car[0] for car in cars])\n",
    "print(marks)\n",
    "marks_gender = {mark: {\"male\": 0, \"female\": 0} for mark in marks}\n",
    "print(marks_gender)\n",
    "for car in cars:\n",
    "    mark = car[0]\n",
    "    owner_id = car[4]\n",
    "    gender = \"male\" if people_dict[owner_id] else \"female\"\n",
    "    marks_gender[mark][gender] += 1\n",
    "\n",
    "for mark, genders in marks_gender.items():\n",
    "    male_count = genders[\"male\"]\n",
    "    female_count = genders[\"female\"]\n",
    "    total_count = male_count + female_count\n",
    "    male_ratio = (male_count / total_count) * 100\n",
    "    female_ratio = (female_count / total_count) * 100\n",
    "    print(f\"У марки {mark} {male_ratio:.2f}% владельцев мужчин и {female_ratio:.2f}% женщин.\")\n"
   ]
  },
  {
   "cell_type": "code",
   "execution_count": 149,
   "metadata": {},
   "outputs": [
    {
     "name": "stdout",
     "output_type": "stream",
     "text": [
      "У модели 5  75.00% владельцев мужчин и 25.00% женщин.\n",
      "У модели camry  44.44% владельцев мужчин и 55.56% женщин.\n",
      "У модели 7  40.00% владельцев мужчин и 60.00% женщин.\n",
      "У модели corolla  40.00% владельцев мужчин и 60.00% женщин.\n",
      "У модели qashqai  66.67% владельцев мужчин и 33.33% женщин.\n"
     ]
    }
   ],
   "source": [
    "#По каждой модели вывести соотношение полов собственников в процентах (60% - 40%)\n",
    "people_dict = {person['id']: person['is_male'] for person in people}\n",
    "for model in models:\n",
    "    model_cars = [car for car in cars if car[1] == model]\n",
    "    num_cars = len(model_cars)\n",
    "    num_male_owners = len([car for car in model_cars if people_dict[car[4]]])\n",
    "    num_female_owners = num_cars - num_male_owners\n",
    "    male_percentage = num_male_owners / num_cars * 100\n",
    "    female_percentage = num_female_owners / num_cars * 100\n",
    "    print(f'У модели {model}  {male_percentage:.2f}% владельцев мужчин и {female_percentage:.2f}% женщин.')"
   ]
  },
  {
   "cell_type": "code",
   "execution_count": 5,
   "metadata": {},
   "outputs": [
    {
     "name": "stdout",
     "output_type": "stream",
     "text": [
      "{'<25': 2011.3333333333333, '25-40': 2011.6666666666667, '>40': 2013.3636363636363}\n"
     ]
    }
   ],
   "source": [
    "#Для каждой из возрастных групп (до 25, 25-40, от 40) вывести средний год выпуска их автомобиля\n",
    "people_dict = {person[\"id\"]: person[\"age\"] for person in people}\n",
    "\n",
    "\n",
    "under_25 = [car[2] for car in cars if people_dict[car[4]] < 25]\n",
    "between_25_40 = [car[2] for car in cars if 25 <= people_dict[car[4]] <= 40]\n",
    "more_40 = [car[2] for car in cars if people_dict[car[4]] > 40]\n",
    "\n",
    "\n",
    "average_years = {'<25': sum(under_25) / len(under_25) , '25-40': sum(between_25_40) / len(between_25_40) , '>40': sum(more_40) / len(more_40)}\n",
    "print(average_years)\n"
   ]
  },
  {
   "cell_type": "code",
   "execution_count": 6,
   "metadata": {},
   "outputs": [
    {
     "name": "stdout",
     "output_type": "stream",
     "text": [
      "{'<25': 14633.333333333334, '25-40': 16320.0, '>40': 17609.090909090908}\n"
     ]
    }
   ],
   "source": [
    "#Для каждой из возрастных групп (до 25, 25-40, от 40) вывести среднюю стоимость их автомобиля\n",
    "people_dict = {person[\"id\"]: person[\"age\"] for person in people}\n",
    "\n",
    "under_25 = [car[3] for car in cars if people_dict[car[4]] < 25]\n",
    "between_25_40 = [car[3] for car in cars if 25 <= people_dict[car[4]] <= 40]\n",
    "more_40 = [car[3] for car in cars if people_dict[car[4]] > 40]\n",
    "average_years = {'<25': sum(under_25) / len(under_25) , '25-40': sum(between_25_40) / len(between_25_40) , '>40': sum(more_40) / len(more_40)}\n",
    "print(average_years)"
   ]
  },
  {
   "cell_type": "code",
   "execution_count": 11,
   "metadata": {},
   "outputs": [
    {
     "name": "stdout",
     "output_type": "stream",
     "text": [
      "<25: bmw\n",
      "25 - 40: toyota\n",
      ">40: toyota\n"
     ]
    }
   ],
   "source": [
    "#Для каждой из возрастных групп (до 25, 25-40, от 40) вывести самые популярные марки (по одной)\n",
    "\n",
    "people_dict = {person[\"id\"]: person[\"age\"] for person in people}\n",
    "\n",
    "\n",
    "under_25 = [car[0] for car in cars if people_dict[car[4]] < 25]\n",
    "between_25_40 = [car[0] for car in cars if 25 <= people_dict[car[4]] <= 40]\n",
    "more_40 = [car[0] for car in cars if people_dict[car[4]] > 40]\n",
    "\n",
    "count_under_25 = {}\n",
    "for brand in under_25:\n",
    "    if brand in count_under_25:\n",
    "        count_under_25[brand] += 1\n",
    "    else:\n",
    "        count_under_25[brand] = 1\n",
    "\n",
    "count_between_25_40 = {}\n",
    "for brand in between_25_40:\n",
    "    if brand in count_between_25_40:\n",
    "        count_between_25_40[brand] += 1\n",
    "    else:\n",
    "        count_between_25_40[brand] = 1\n",
    "        \n",
    "count_more_40 = {}\n",
    "for brand in more_40:\n",
    "    if brand in count_more_40:\n",
    "        count_more_40[brand] += 1\n",
    "    else:\n",
    "        count_more_40[brand] = 1\n",
    "\n",
    "\n",
    "common_under_25 = max(count_under_25, key=count_under_25.get)\n",
    "common_between_25_40 = max(count_between_25_40, key=count_between_25_40.get)\n",
    "common_more_40 = max(count_more_40, key=count_more_40.get)\n",
    "\n",
    "\n",
    "print(f\"<25: {common_under_25}\")\n",
    "print(f\"25 - 40: {common_between_25_40}\")\n",
    "print(f\">40: {common_more_40}\")\n"
   ]
  },
  {
   "cell_type": "code",
   "execution_count": 7,
   "metadata": {},
   "outputs": [
    {
     "name": "stdout",
     "output_type": "stream",
     "text": [
      "Average age of men: 38.266666666666666\n",
      "Average age of women: 37.642857142857146\n"
     ]
    }
   ],
   "source": [
    "middle_age = []\n",
    "#temp_models = set([m for model, m, *_ in cars if model == mark ])\n",
    "male = [[[k,v] for k,v in d.items()if k==\"is_male\" and v == True ] for d in people]\n",
    "while male.count([]) != 0:\n",
    "    male.remove([])\n",
    "del1=len(male)\n",
    "female = [[[k,v] for k,v in d.items()if k==\"is_male\" and v == False ] for d in people]\n",
    "while female.count([]) != 0:\n",
    "    female.remove([])\n",
    "del2=len(female)\n",
    "print(del1, del2)\n",
    "temp_male_age = [[v for k, v in d.items() if k == \"age\" and d[\"is_male\"]==True ] for d in people ]\n",
    "while temp_male_age.count([]) != 0:\n",
    "    temp_male_age.remove([])\n",
    "male_summ = 0\n",
    "\n",
    "for el in temp_male_age:\n",
    "    for el2 in el:\n",
    "        male_summ += el2\n",
    "male_summ /= del1 \n",
    "\n",
    "temp_female_age = [[v for k, v in d.items() if k == \"age\" and d[\"is_male\"]== False ] for d in people ]\n",
    "while temp_female_age.count([]) != 0:\n",
    "    temp_female_age.remove([])\n",
    "female_summ = 0\n",
    "\n",
    "for el in temp_female_age:\n",
    "    for el2 in el:\n",
    "        female_summ += el2\n",
    "female_summ /= del2   \n",
    "print(f\"Средний возраст мужчин = {male_summ}, средний возраст женщин = {female_summ}\")"
   ]
  },
  {
   "cell_type": "code",
   "execution_count": null,
   "metadata": {},
   "outputs": [],
   "source": []
  }
 ],
 "metadata": {
  "kernelspec": {
   "display_name": "Python 3",
   "language": "python",
   "name": "python3"
  },
  "language_info": {
   "codemirror_mode": {
    "name": "ipython",
    "version": 3
   },
   "file_extension": ".py",
   "mimetype": "text/x-python",
   "name": "python",
   "nbconvert_exporter": "python",
   "pygments_lexer": "ipython3",
   "version": "3.8.5"
  }
 },
 "nbformat": 4,
 "nbformat_minor": 4
}
